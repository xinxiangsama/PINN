{
 "cells": [
  {
   "cell_type": "code",
   "execution_count": 67,
   "metadata": {},
   "outputs": [],
   "source": [
    "# Import TensorFlow and NumPy\n",
    "import tensorflow as tf\n",
    "import numpy as np\n",
    "\n",
    "# Set data type\n",
    "DTYPE='float32'\n",
    "tf.keras.backend.set_floatx(DTYPE)\n",
    "\n",
    "# Set constants\n",
    "pi = tf.constant(np.pi, dtype=DTYPE)\n",
    "sigma = 1\n",
    "beta = 5\n",
    "rho = 20\n",
    "\n",
    "# Define initial condition\n",
    "def fun_u_0():\n",
    "    return 1,1,1\n",
    "\n",
    "# Define residual of the PDE\n",
    "def fun_r1(x_t,x,y):\n",
    "    return x_t - sigma*(y-x)\n",
    "\n",
    "def fun_r2(y_t,x,y,z):\n",
    "    return y_t - x * (rho - z) +y\n",
    "def fun_r3(z_t,x,y,z):\n",
    "    return z_t - x*y - beta*z\n",
    "\n",
    "def fun_r(x_t,y_t,z_t,x,y,z):\n",
    "    return fun_r1(x_t,x,y) + fun_r2(y_t,x,y,z) + fun_r3(z_t,x,y,z)"
   ]
  },
  {
   "cell_type": "code",
   "execution_count": 68,
   "metadata": {},
   "outputs": [],
   "source": [
    "#设置时间轴采样点的数量\n",
    "N_r = 10000\n",
    "\n",
    "#设置求解区域（这里只能是时间）\n",
    "tmin = 0\n",
    "tmax = 100\n",
    "\n",
    "tf.random.set_seed(0)\n",
    "\n",
    "#采点\n",
    "#初始时刻只有一个点（因为这使用时间来预测空间点的lorenz正问题）\n",
    "t_0 = 0\n",
    "x_0,y_0,z_0 = fun_u_0()\n",
    "#求解区域内部\n",
    "t_r = tf.random.uniform((N_r,1),tmin,tmax,dtype=DTYPE)"
   ]
  },
  {
   "cell_type": "code",
   "execution_count": 69,
   "metadata": {},
   "outputs": [
    {
     "data": {
      "image/png": "[encoded data removed]",
      "text/plain": [
       "<Figure size 640x480 with 1 Axes>"
      ]
     },
     "metadata": {},
     "output_type": "display_data"
    }
   ],
   "source": [
    "import matplotlib.pyplot as plt\n",
    "plt.hist(t_r.numpy(), bins=1000, range=(tmin, tmax))\n",
    "plt.xlabel('random time')\n",
    "plt.ylabel('num of each time step')\n",
    "plt.title('just take a look')\n",
    "plt.show()"
   ]
  },
  {
   "cell_type": "code",
   "execution_count": 70,
   "metadata": {},
   "outputs": [],
   "source": [
    "def init_model(num_hidden_layers=8, num_neurons_per_layer=20):\n",
    "    # Initialize a feedforward neural network\n",
    "    model = tf.keras.Sequential()\n",
    "\n",
    "    # Input is two-dimensional (time + one spatial dimension)\n",
    "    model.add(tf.keras.Input(1))\n",
    "\n",
    "    # Introduce a scaling layer to map input to [tmin, tmax]\n",
    "    scaling_layer = tf.keras.layers.Lambda(\n",
    "                lambda t: 2.0*(t - tmin)/(tmax - tmin) - 1.0)\n",
    "    model.add(scaling_layer)\n",
    "\n",
    "    # Append hidden layers\n",
    "    for _ in range(num_hidden_layers):\n",
    "        model.add(tf.keras.layers.Dense(num_neurons_per_layer,\n",
    "            activation=tf.keras.activations.get('tanh'),\n",
    "            kernel_initializer='glorot_normal'))\n",
    "\n",
    "    # Output is one-dimensional\n",
    "    model.add(tf.keras.layers.Dense(3))\n",
    "\n",
    "    return model"
   ]
  },
  {
   "cell_type": "code",
   "execution_count": 71,
   "metadata": {},
   "outputs": [],
   "source": [
    "def get_r(model,t_r):\n",
    "    with tf.GradientTape(persistent=True) as tape:\n",
    "        t = t_r\n",
    "        tape.watch(t)\n",
    "\n",
    "        x,y,z = model(t)\n",
    "\n",
    "        x_t = tape.gradient(x,t)\n",
    "        y_t = tape.gradient(y,t)\n",
    "        z_t = tape.gradient(z,t)\n",
    "\n",
    "    del tape\n",
    "\n",
    "    return fun_r(x_t,y_t,z_t,x,y,z)\n",
    "        \n",
    "     "
   ]
  },
  {
   "cell_type": "code",
   "execution_count": 74,
   "metadata": {},
   "outputs": [],
   "source": [
    "def compute_loss(model,t_r,t_0,x_0,y_0,z_0):\n",
    "    # Compute phi^r\n",
    "    r = get_r(model, t_r)\n",
    "    phi_r = tf.reduce_mean(tf.square(r))\n",
    "\n",
    "    # Initialize loss\n",
    "    loss = phi_r    \n",
    "\n",
    "    #Add initial loss to the phi^r\n",
    "    x_pred,y_pred,z_pred = model(t_0)\n",
    "    loss +=tf.reduce_mean(tf.square(x_0 - x_pred) + tf.square(y_0 - y_pred) + tf.square(z_0 - z_pred))\n",
    "\n",
    "    return loss"
   ]
  },
  {
   "cell_type": "code",
   "execution_count": null,
   "metadata": {},
   "outputs": [],
   "source": [
    "def get_grad(model,X_r,t_0,x_0,y_0,z_0)"
   ]
  }
 ],
 "metadata": {
  "kernelspec": {
   "display_name": "learnml",
   "language": "python",
   "name": "python3"
  },
  "language_info": {
   "codemirror_mode": {
    "name": "ipython",
    "version": 3
   },
   "file_extension": ".py",
   "mimetype": "text/x-python",
   "name": "python",
   "nbconvert_exporter": "python",
   "pygments_lexer": "ipython3",
   "version": "3.8.18"
  }
 },
 "nbformat": 4,
 "nbformat_minor": 2
}
